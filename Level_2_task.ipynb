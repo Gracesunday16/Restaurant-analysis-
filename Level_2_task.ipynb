{
 "cells": [
  {
   "cell_type": "markdown",
   "metadata": {},
   "source": [
    "# LEVEL 2"
   ]
  },
  {
   "cell_type": "markdown",
   "metadata": {},
   "source": [
    "IMPORT LIBRARIES"
   ]
  },
  {
   "cell_type": "code",
   "execution_count": 2,
   "metadata": {},
   "outputs": [],
   "source": [
    "import pandas as pd\n",
    "import numpy as np\n",
    "import matplotlib.pyplot as plt\n",
    "from sklearn.cluster import DBSCAN\n"
   ]
  },
  {
   "cell_type": "markdown",
   "metadata": {},
   "source": [
    "READ IN THE CLEANED DATASET"
   ]
  },
  {
   "cell_type": "code",
   "execution_count": 3,
   "metadata": {},
   "outputs": [
    {
     "data": {
      "text/html": [
       "<div>\n",
       "<style scoped>\n",
       "    .dataframe tbody tr th:only-of-type {\n",
       "        vertical-align: middle;\n",
       "    }\n",
       "\n",
       "    .dataframe tbody tr th {\n",
       "        vertical-align: top;\n",
       "    }\n",
       "\n",
       "    .dataframe thead th {\n",
       "        text-align: right;\n",
       "    }\n",
       "</style>\n",
       "<table border=\"1\" class=\"dataframe\">\n",
       "  <thead>\n",
       "    <tr style=\"text-align: right;\">\n",
       "      <th></th>\n",
       "      <th>Restaurant ID</th>\n",
       "      <th>Restaurant Name</th>\n",
       "      <th>Country Code</th>\n",
       "      <th>City</th>\n",
       "      <th>Address</th>\n",
       "      <th>Locality</th>\n",
       "      <th>Locality Verbose</th>\n",
       "      <th>Longitude</th>\n",
       "      <th>Latitude</th>\n",
       "      <th>Cuisines</th>\n",
       "      <th>...</th>\n",
       "      <th>Currency</th>\n",
       "      <th>Has Table booking</th>\n",
       "      <th>Has Online delivery</th>\n",
       "      <th>Is delivering now</th>\n",
       "      <th>Switch to order menu</th>\n",
       "      <th>Price range</th>\n",
       "      <th>Aggregate rating</th>\n",
       "      <th>Rating color</th>\n",
       "      <th>Rating text</th>\n",
       "      <th>Votes</th>\n",
       "    </tr>\n",
       "  </thead>\n",
       "  <tbody>\n",
       "    <tr>\n",
       "      <th>0</th>\n",
       "      <td>6317637</td>\n",
       "      <td>Le Petit Souffle</td>\n",
       "      <td>162</td>\n",
       "      <td>Makati City</td>\n",
       "      <td>Third Floor, Century City Mall, Kalayaan Avenu...</td>\n",
       "      <td>Century City Mall, Poblacion, Makati City</td>\n",
       "      <td>Century City Mall, Poblacion, Makati City, Mak...</td>\n",
       "      <td>121.027535</td>\n",
       "      <td>14.565443</td>\n",
       "      <td>French, Japanese, Desserts</td>\n",
       "      <td>...</td>\n",
       "      <td>Botswana Pula(P)</td>\n",
       "      <td>Yes</td>\n",
       "      <td>No</td>\n",
       "      <td>No</td>\n",
       "      <td>No</td>\n",
       "      <td>3</td>\n",
       "      <td>4.8</td>\n",
       "      <td>Dark Green</td>\n",
       "      <td>Excellent</td>\n",
       "      <td>314</td>\n",
       "    </tr>\n",
       "    <tr>\n",
       "      <th>1</th>\n",
       "      <td>6304287</td>\n",
       "      <td>Izakaya Kikufuji</td>\n",
       "      <td>162</td>\n",
       "      <td>Makati City</td>\n",
       "      <td>Little Tokyo, 2277 Chino Roces Avenue, Legaspi...</td>\n",
       "      <td>Little Tokyo, Legaspi Village, Makati City</td>\n",
       "      <td>Little Tokyo, Legaspi Village, Makati City, Ma...</td>\n",
       "      <td>121.014101</td>\n",
       "      <td>14.553708</td>\n",
       "      <td>Japanese</td>\n",
       "      <td>...</td>\n",
       "      <td>Botswana Pula(P)</td>\n",
       "      <td>Yes</td>\n",
       "      <td>No</td>\n",
       "      <td>No</td>\n",
       "      <td>No</td>\n",
       "      <td>3</td>\n",
       "      <td>4.5</td>\n",
       "      <td>Dark Green</td>\n",
       "      <td>Excellent</td>\n",
       "      <td>591</td>\n",
       "    </tr>\n",
       "    <tr>\n",
       "      <th>2</th>\n",
       "      <td>6300002</td>\n",
       "      <td>Heat - Edsa Shangri-La</td>\n",
       "      <td>162</td>\n",
       "      <td>Mandaluyong City</td>\n",
       "      <td>Edsa Shangri-La, 1 Garden Way, Ortigas, Mandal...</td>\n",
       "      <td>Edsa Shangri-La, Ortigas, Mandaluyong City</td>\n",
       "      <td>Edsa Shangri-La, Ortigas, Mandaluyong City, Ma...</td>\n",
       "      <td>121.056831</td>\n",
       "      <td>14.581404</td>\n",
       "      <td>Seafood, Asian, Filipino, Indian</td>\n",
       "      <td>...</td>\n",
       "      <td>Botswana Pula(P)</td>\n",
       "      <td>Yes</td>\n",
       "      <td>No</td>\n",
       "      <td>No</td>\n",
       "      <td>No</td>\n",
       "      <td>4</td>\n",
       "      <td>4.4</td>\n",
       "      <td>Green</td>\n",
       "      <td>Very Good</td>\n",
       "      <td>270</td>\n",
       "    </tr>\n",
       "    <tr>\n",
       "      <th>3</th>\n",
       "      <td>6318506</td>\n",
       "      <td>Ooma</td>\n",
       "      <td>162</td>\n",
       "      <td>Mandaluyong City</td>\n",
       "      <td>Third Floor, Mega Fashion Hall, SM Megamall, O...</td>\n",
       "      <td>SM Megamall, Ortigas, Mandaluyong City</td>\n",
       "      <td>SM Megamall, Ortigas, Mandaluyong City, Mandal...</td>\n",
       "      <td>121.056475</td>\n",
       "      <td>14.585318</td>\n",
       "      <td>Japanese, Sushi</td>\n",
       "      <td>...</td>\n",
       "      <td>Botswana Pula(P)</td>\n",
       "      <td>No</td>\n",
       "      <td>No</td>\n",
       "      <td>No</td>\n",
       "      <td>No</td>\n",
       "      <td>4</td>\n",
       "      <td>4.9</td>\n",
       "      <td>Dark Green</td>\n",
       "      <td>Excellent</td>\n",
       "      <td>365</td>\n",
       "    </tr>\n",
       "    <tr>\n",
       "      <th>4</th>\n",
       "      <td>6314302</td>\n",
       "      <td>Sambo Kojin</td>\n",
       "      <td>162</td>\n",
       "      <td>Mandaluyong City</td>\n",
       "      <td>Third Floor, Mega Atrium, SM Megamall, Ortigas...</td>\n",
       "      <td>SM Megamall, Ortigas, Mandaluyong City</td>\n",
       "      <td>SM Megamall, Ortigas, Mandaluyong City, Mandal...</td>\n",
       "      <td>121.057508</td>\n",
       "      <td>14.584450</td>\n",
       "      <td>Japanese, Korean</td>\n",
       "      <td>...</td>\n",
       "      <td>Botswana Pula(P)</td>\n",
       "      <td>Yes</td>\n",
       "      <td>No</td>\n",
       "      <td>No</td>\n",
       "      <td>No</td>\n",
       "      <td>4</td>\n",
       "      <td>4.8</td>\n",
       "      <td>Dark Green</td>\n",
       "      <td>Excellent</td>\n",
       "      <td>229</td>\n",
       "    </tr>\n",
       "    <tr>\n",
       "      <th>...</th>\n",
       "      <td>...</td>\n",
       "      <td>...</td>\n",
       "      <td>...</td>\n",
       "      <td>...</td>\n",
       "      <td>...</td>\n",
       "      <td>...</td>\n",
       "      <td>...</td>\n",
       "      <td>...</td>\n",
       "      <td>...</td>\n",
       "      <td>...</td>\n",
       "      <td>...</td>\n",
       "      <td>...</td>\n",
       "      <td>...</td>\n",
       "      <td>...</td>\n",
       "      <td>...</td>\n",
       "      <td>...</td>\n",
       "      <td>...</td>\n",
       "      <td>...</td>\n",
       "      <td>...</td>\n",
       "      <td>...</td>\n",
       "      <td>...</td>\n",
       "    </tr>\n",
       "    <tr>\n",
       "      <th>9546</th>\n",
       "      <td>5915730</td>\n",
       "      <td>Naml Gurme</td>\n",
       "      <td>208</td>\n",
       "      <td>stanbul</td>\n",
       "      <td>Kemanke Karamustafa Paa Mahallesi, R۱ht۱m Cadd...</td>\n",
       "      <td>Karaky</td>\n",
       "      <td>Karaky, stanbul</td>\n",
       "      <td>28.977392</td>\n",
       "      <td>41.022793</td>\n",
       "      <td>Turkish</td>\n",
       "      <td>...</td>\n",
       "      <td>Turkish Lira(TL)</td>\n",
       "      <td>No</td>\n",
       "      <td>No</td>\n",
       "      <td>No</td>\n",
       "      <td>No</td>\n",
       "      <td>3</td>\n",
       "      <td>4.1</td>\n",
       "      <td>Green</td>\n",
       "      <td>Very Good</td>\n",
       "      <td>788</td>\n",
       "    </tr>\n",
       "    <tr>\n",
       "      <th>9547</th>\n",
       "      <td>5908749</td>\n",
       "      <td>Ceviz Aac</td>\n",
       "      <td>208</td>\n",
       "      <td>stanbul</td>\n",
       "      <td>Kouyolu Mahallesi, Muhittin stnda Caddesi, No ...</td>\n",
       "      <td>Kouyolu</td>\n",
       "      <td>Kouyolu, stanbul</td>\n",
       "      <td>29.041297</td>\n",
       "      <td>41.009847</td>\n",
       "      <td>World Cuisine, Patisserie, Cafe</td>\n",
       "      <td>...</td>\n",
       "      <td>Turkish Lira(TL)</td>\n",
       "      <td>No</td>\n",
       "      <td>No</td>\n",
       "      <td>No</td>\n",
       "      <td>No</td>\n",
       "      <td>3</td>\n",
       "      <td>4.2</td>\n",
       "      <td>Green</td>\n",
       "      <td>Very Good</td>\n",
       "      <td>1034</td>\n",
       "    </tr>\n",
       "    <tr>\n",
       "      <th>9548</th>\n",
       "      <td>5915807</td>\n",
       "      <td>Huqqa</td>\n",
       "      <td>208</td>\n",
       "      <td>stanbul</td>\n",
       "      <td>Kurueme Mahallesi, Muallim Naci Caddesi, No 56...</td>\n",
       "      <td>Kurueme</td>\n",
       "      <td>Kurueme, stanbul</td>\n",
       "      <td>29.034640</td>\n",
       "      <td>41.055817</td>\n",
       "      <td>Italian, World Cuisine</td>\n",
       "      <td>...</td>\n",
       "      <td>Turkish Lira(TL)</td>\n",
       "      <td>No</td>\n",
       "      <td>No</td>\n",
       "      <td>No</td>\n",
       "      <td>No</td>\n",
       "      <td>4</td>\n",
       "      <td>3.7</td>\n",
       "      <td>Yellow</td>\n",
       "      <td>Good</td>\n",
       "      <td>661</td>\n",
       "    </tr>\n",
       "    <tr>\n",
       "      <th>9549</th>\n",
       "      <td>5916112</td>\n",
       "      <td>Ak Kahve</td>\n",
       "      <td>208</td>\n",
       "      <td>stanbul</td>\n",
       "      <td>Kurueme Mahallesi, Muallim Naci Caddesi, No 64...</td>\n",
       "      <td>Kurueme</td>\n",
       "      <td>Kurueme, stanbul</td>\n",
       "      <td>29.036019</td>\n",
       "      <td>41.057979</td>\n",
       "      <td>Restaurant Cafe</td>\n",
       "      <td>...</td>\n",
       "      <td>Turkish Lira(TL)</td>\n",
       "      <td>No</td>\n",
       "      <td>No</td>\n",
       "      <td>No</td>\n",
       "      <td>No</td>\n",
       "      <td>4</td>\n",
       "      <td>4.0</td>\n",
       "      <td>Green</td>\n",
       "      <td>Very Good</td>\n",
       "      <td>901</td>\n",
       "    </tr>\n",
       "    <tr>\n",
       "      <th>9550</th>\n",
       "      <td>5927402</td>\n",
       "      <td>Walter's Coffee Roastery</td>\n",
       "      <td>208</td>\n",
       "      <td>stanbul</td>\n",
       "      <td>Cafeaa Mahallesi, Bademalt۱ Sokak, No 21/B, Ka...</td>\n",
       "      <td>Moda</td>\n",
       "      <td>Moda, stanbul</td>\n",
       "      <td>29.026016</td>\n",
       "      <td>40.984776</td>\n",
       "      <td>Cafe</td>\n",
       "      <td>...</td>\n",
       "      <td>Turkish Lira(TL)</td>\n",
       "      <td>No</td>\n",
       "      <td>No</td>\n",
       "      <td>No</td>\n",
       "      <td>No</td>\n",
       "      <td>2</td>\n",
       "      <td>4.0</td>\n",
       "      <td>Green</td>\n",
       "      <td>Very Good</td>\n",
       "      <td>591</td>\n",
       "    </tr>\n",
       "  </tbody>\n",
       "</table>\n",
       "<p>9551 rows × 21 columns</p>\n",
       "</div>"
      ],
      "text/plain": [
       "      Restaurant ID           Restaurant Name  Country Code              City  \\\n",
       "0           6317637          Le Petit Souffle           162       Makati City   \n",
       "1           6304287          Izakaya Kikufuji           162       Makati City   \n",
       "2           6300002    Heat - Edsa Shangri-La           162  Mandaluyong City   \n",
       "3           6318506                      Ooma           162  Mandaluyong City   \n",
       "4           6314302               Sambo Kojin           162  Mandaluyong City   \n",
       "...             ...                       ...           ...               ...   \n",
       "9546        5915730                Naml Gurme           208           stanbul   \n",
       "9547        5908749                 Ceviz Aac           208           stanbul   \n",
       "9548        5915807                     Huqqa           208           stanbul   \n",
       "9549        5916112                  Ak Kahve           208           stanbul   \n",
       "9550        5927402  Walter's Coffee Roastery           208           stanbul   \n",
       "\n",
       "                                                Address  \\\n",
       "0     Third Floor, Century City Mall, Kalayaan Avenu...   \n",
       "1     Little Tokyo, 2277 Chino Roces Avenue, Legaspi...   \n",
       "2     Edsa Shangri-La, 1 Garden Way, Ortigas, Mandal...   \n",
       "3     Third Floor, Mega Fashion Hall, SM Megamall, O...   \n",
       "4     Third Floor, Mega Atrium, SM Megamall, Ortigas...   \n",
       "...                                                 ...   \n",
       "9546  Kemanke Karamustafa Paa Mahallesi, R۱ht۱m Cadd...   \n",
       "9547  Kouyolu Mahallesi, Muhittin stnda Caddesi, No ...   \n",
       "9548  Kurueme Mahallesi, Muallim Naci Caddesi, No 56...   \n",
       "9549  Kurueme Mahallesi, Muallim Naci Caddesi, No 64...   \n",
       "9550  Cafeaa Mahallesi, Bademalt۱ Sokak, No 21/B, Ka...   \n",
       "\n",
       "                                        Locality  \\\n",
       "0      Century City Mall, Poblacion, Makati City   \n",
       "1     Little Tokyo, Legaspi Village, Makati City   \n",
       "2     Edsa Shangri-La, Ortigas, Mandaluyong City   \n",
       "3         SM Megamall, Ortigas, Mandaluyong City   \n",
       "4         SM Megamall, Ortigas, Mandaluyong City   \n",
       "...                                          ...   \n",
       "9546                                      Karaky   \n",
       "9547                                     Kouyolu   \n",
       "9548                                     Kurueme   \n",
       "9549                                     Kurueme   \n",
       "9550                                        Moda   \n",
       "\n",
       "                                       Locality Verbose   Longitude  \\\n",
       "0     Century City Mall, Poblacion, Makati City, Mak...  121.027535   \n",
       "1     Little Tokyo, Legaspi Village, Makati City, Ma...  121.014101   \n",
       "2     Edsa Shangri-La, Ortigas, Mandaluyong City, Ma...  121.056831   \n",
       "3     SM Megamall, Ortigas, Mandaluyong City, Mandal...  121.056475   \n",
       "4     SM Megamall, Ortigas, Mandaluyong City, Mandal...  121.057508   \n",
       "...                                                 ...         ...   \n",
       "9546                                    Karaky, stanbul   28.977392   \n",
       "9547                                   Kouyolu, stanbul   29.041297   \n",
       "9548                                   Kurueme, stanbul   29.034640   \n",
       "9549                                   Kurueme, stanbul   29.036019   \n",
       "9550                                      Moda, stanbul   29.026016   \n",
       "\n",
       "       Latitude                          Cuisines  ...          Currency  \\\n",
       "0     14.565443        French, Japanese, Desserts  ...  Botswana Pula(P)   \n",
       "1     14.553708                          Japanese  ...  Botswana Pula(P)   \n",
       "2     14.581404  Seafood, Asian, Filipino, Indian  ...  Botswana Pula(P)   \n",
       "3     14.585318                   Japanese, Sushi  ...  Botswana Pula(P)   \n",
       "4     14.584450                  Japanese, Korean  ...  Botswana Pula(P)   \n",
       "...         ...                               ...  ...               ...   \n",
       "9546  41.022793                           Turkish  ...  Turkish Lira(TL)   \n",
       "9547  41.009847   World Cuisine, Patisserie, Cafe  ...  Turkish Lira(TL)   \n",
       "9548  41.055817            Italian, World Cuisine  ...  Turkish Lira(TL)   \n",
       "9549  41.057979                   Restaurant Cafe  ...  Turkish Lira(TL)   \n",
       "9550  40.984776                              Cafe  ...  Turkish Lira(TL)   \n",
       "\n",
       "     Has Table booking Has Online delivery Is delivering now  \\\n",
       "0                  Yes                  No                No   \n",
       "1                  Yes                  No                No   \n",
       "2                  Yes                  No                No   \n",
       "3                   No                  No                No   \n",
       "4                  Yes                  No                No   \n",
       "...                ...                 ...               ...   \n",
       "9546                No                  No                No   \n",
       "9547                No                  No                No   \n",
       "9548                No                  No                No   \n",
       "9549                No                  No                No   \n",
       "9550                No                  No                No   \n",
       "\n",
       "     Switch to order menu Price range  Aggregate rating  Rating color  \\\n",
       "0                      No           3               4.8    Dark Green   \n",
       "1                      No           3               4.5    Dark Green   \n",
       "2                      No           4               4.4         Green   \n",
       "3                      No           4               4.9    Dark Green   \n",
       "4                      No           4               4.8    Dark Green   \n",
       "...                   ...         ...               ...           ...   \n",
       "9546                   No           3               4.1         Green   \n",
       "9547                   No           3               4.2         Green   \n",
       "9548                   No           4               3.7        Yellow   \n",
       "9549                   No           4               4.0         Green   \n",
       "9550                   No           2               4.0         Green   \n",
       "\n",
       "     Rating text Votes  \n",
       "0      Excellent   314  \n",
       "1      Excellent   591  \n",
       "2      Very Good   270  \n",
       "3      Excellent   365  \n",
       "4      Excellent   229  \n",
       "...          ...   ...  \n",
       "9546   Very Good   788  \n",
       "9547   Very Good  1034  \n",
       "9548        Good   661  \n",
       "9549   Very Good   901  \n",
       "9550   Very Good   591  \n",
       "\n",
       "[9551 rows x 21 columns]"
      ]
     },
     "metadata": {},
     "output_type": "display_data"
    }
   ],
   "source": [
    "df=pd.read_csv('cleaned_data.csv')\n",
    "display(df)"
   ]
  },
  {
   "cell_type": "markdown",
   "metadata": {},
   "source": [
    "# TASK 1: RESTAURANT RATINGS "
   ]
  },
  {
   "cell_type": "markdown",
   "metadata": {},
   "source": [
    "QUESTIONS:\n",
    "1. Analyze the distribution of aggregate ratings and determine the most common rating range.\n",
    "2. Calculate the average number of votes received by restaurants."
   ]
  },
  {
   "cell_type": "markdown",
   "metadata": {},
   "source": [
    "1. DISTRIBUTION OF AGGREGATE RATINGS AND MOST COMMON RATING RANGE"
   ]
  },
  {
   "cell_type": "code",
   "execution_count": 4,
   "metadata": {},
   "outputs": [
    {
     "data": {
      "text/plain": [
       "array([4.8, 4.5, 4.4, 4.9, 4. , 4.2, 4.3, 3.6, 4.7, 3. , 3.8, 3.7, 3.2,\n",
       "       3.1, 0. , 4.1, 3.3, 4.6, 3.9, 3.4, 3.5, 2.2, 2.9, 2.4, 2.6, 2.8,\n",
       "       2.1, 2.7, 2.5, 1.8, 2. , 2.3, 1.9])"
      ]
     },
     "execution_count": 4,
     "metadata": {},
     "output_type": "execute_result"
    }
   ],
   "source": [
    "df['Aggregate rating'].unique()"
   ]
  },
  {
   "cell_type": "code",
   "execution_count": 4,
   "metadata": {},
   "outputs": [
    {
     "data": {
      "image/png": "[encoded data removed]",
      "text/plain": [
       "<Figure size 1000x600 with 1 Axes>"
      ]
     },
     "metadata": {},
     "output_type": "display_data"
    }
   ],
   "source": [
    "# visualize the distribution of Aggregate rating\n",
    "plt.figure (figsize= (10, 6))\n",
    "plt.hist(df['Aggregate rating'], bins=10, color= 'skyblue', edgecolor= 'black')\n",
    "plt.title (\"Distribution of Aggregate Ratings\")\n",
    "plt.xlabel= (\"Aggregate rating\")\n",
    "plt.ylabel= (\"Frequeny\")\n",
    "plt.show()\n",
    "\n",
    "# Define rating ranges\n",
    "bins = [0, 1, 2, 3, 4, 5]  \n",
    "\n",
    "# Labels for ranges\n",
    "labels = ['0-1', '1-2', '2-3', '3-4', '4-5']  \n",
    "df['Rating Range'] = pd.cut(df['Aggregate rating'], bins=bins, labels=labels, include_lowest=True)\n"
   ]
  },
  {
   "cell_type": "markdown",
   "metadata": {},
   "source": [
    "MOST COMMON RATING RANGE"
   ]
  },
  {
   "cell_type": "code",
   "execution_count": 5,
   "metadata": {},
   "outputs": [
    {
     "name": "stdout",
     "output_type": "stream",
     "text": [
      "The most common rating range is: 0.0\n"
     ]
    }
   ],
   "source": [
    "# Determine the most common rating range\n",
    "rating_distribution = df['Aggregate rating'].value_counts()\n",
    "most_common_range = rating_distribution.idxmax()\n",
    "print(f\"The most common rating range is: {most_common_range}\")"
   ]
  },
  {
   "cell_type": "markdown",
   "metadata": {},
   "source": [
    "2. AVERAGE NUMBER OF VOTES RECIEVED BY RESTAURANTS"
   ]
  },
  {
   "cell_type": "code",
   "execution_count": 6,
   "metadata": {},
   "outputs": [
    {
     "name": "stdout",
     "output_type": "stream",
     "text": [
      "The average number of votes received by restaurants is 156.91\n"
     ]
    }
   ],
   "source": [
    "average_votes = df['Votes'].mean()\n",
    "print(f\"The average number of votes received by restaurants is {average_votes:.2f}\")"
   ]
  },
  {
   "cell_type": "markdown",
   "metadata": {},
   "source": [
    "# TASK 2 : CUISINE COMBINATION"
   ]
  },
  {
   "cell_type": "markdown",
   "metadata": {},
   "source": [
    "QUESTIONS:\n",
    "1. Identify the most common combinations of cuisines in the dataset.\n",
    "2. Determine if certain cuisine combinations tend to have higher ratings."
   ]
  },
  {
   "cell_type": "markdown",
   "metadata": {},
   "source": [
    "1. THE MOST COMMON CUISINE COMBINATION"
   ]
  },
  {
   "cell_type": "code",
   "execution_count": 4,
   "metadata": {},
   "outputs": [],
   "source": [
    "# Ensure cuisines are treated as list\n",
    "df['Cuisines'] = df['Cuisines'].apply(lambda x: x.split(',') if isinstance(x,str) else [])\n",
    "\n",
    "# Filter the restaurant that serve more than 1 cuisine\n",
    "df_multiple_cuisine = df[df['Cuisines'].apply(len) > 1]\n"
   ]
  },
  {
   "cell_type": "code",
   "execution_count": 5,
   "metadata": {},
   "outputs": [
    {
     "name": "stdout",
     "output_type": "stream",
     "text": [
      "Cuisines\n",
      "Chinese, North Indian              511\n",
      "Mughlai, North Indian              334\n",
      "Chinese,  Mughlai, North Indian    267\n",
      "Desserts, Bakery                   170\n",
      "Fast Food, Pizza                   131\n",
      "Fast Food, Chinese                 118\n",
      "Street Food, Mithai                116\n",
      "Fast Food, Bakery                  108\n",
      "North Indian, Chinese              105\n",
      "Desserts, Ice Cream                 83\n",
      "Name: count, dtype: int64\n"
     ]
    }
   ],
   "source": [
    "\n",
    "# Count occurrences of each unique cuisine combination\n",
    "combination_counts = df_multiple_cuisine['Cuisines'].apply(lambda x: ', '.join(sorted(x))).value_counts()\n",
    "\n",
    "# Get the most common cuisine combinations\n",
    "print(combination_counts.head(10))"
   ]
  },
  {
   "cell_type": "markdown",
   "metadata": {},
   "source": [
    "2. CUISINE COMBINATION THAT HAVE HIGHER RATING "
   ]
  },
  {
   "cell_type": "code",
   "execution_count": null,
   "metadata": {},
   "outputs": [],
   "source": [
    "df_multiple_cuisine = df[df['Cuisines'] .apply(len) > 1]\n",
    "display(df_multiple_cuisine)"
   ]
  },
  {
   "cell_type": "code",
   "execution_count": null,
   "metadata": {},
   "outputs": [],
   "source": [
    "avg_rating_multi = df_multiple_cuisine.groupby(df_multiple_cuisine)['Aggregate rating'].mean()\n",
    "\n",
    "print(f\"Average Rating (Multi Cuisine): {avg_rating_multi:.2f}\")"
   ]
  },
  {
   "cell_type": "code",
   "execution_count": 31,
   "metadata": {},
   "outputs": [
    {
     "name": "stdout",
     "output_type": "stream",
     "text": [
      "                                   Cuisines  Aggregate rating\n",
      "0            [French,  Japanese,  Desserts]               4.8\n",
      "2     [Seafood,  Asian,  Filipino,  Indian]               4.4\n",
      "3                        [Japanese,  Sushi]               4.9\n",
      "4                       [Japanese,  Korean]               4.8\n",
      "6                        [Asian,  European]               4.0\n",
      "7   [Seafood,  Filipino,  Asian,  European]               4.2\n",
      "8               [European,  Asian,  Indian]               4.9\n",
      "10                     [Filipino,  Mexican]               4.9\n",
      "11        [American,  Ice Cream,  Desserts]               4.2\n",
      "12                     [Filipino,  Mexican]               4.8\n"
     ]
    }
   ],
   "source": [
    "print(df_multiple_cuisine[['Cuisines', 'Aggregate rating']].head(10))"
   ]
  },
  {
   "cell_type": "code",
   "execution_count": 33,
   "metadata": {},
   "outputs": [
    {
     "name": "stdout",
     "output_type": "stream",
     "text": [
      "2.905139882888744\n"
     ]
    }
   ],
   "source": [
    "avg_rating_multi = df_multiple_cuisine[ 'Aggregate rating']. mean()\n",
    "print(avg_rating_multi)"
   ]
  },
  {
   "cell_type": "markdown",
   "metadata": {},
   "source": [
    "# TASK 3 : GEOGRAPHIC ANALYSIS"
   ]
  },
  {
   "cell_type": "markdown",
   "metadata": {},
   "source": [
    "QUESTIONS:\n",
    "1. Plot the locations of restaurants on a map using longitude and latitude coordinates.\n",
    "2. Identify any patterns or clusters of restaurants in specific areas."
   ]
  },
  {
   "cell_type": "markdown",
   "metadata": {},
   "source": [
    "1. MAP DISPLAYING THE LOCATIONS OF RESTAURANTS"
   ]
  },
  {
   "cell_type": "code",
   "execution_count": 9,
   "metadata": {},
   "outputs": [
    {
     "name": "stdout",
     "output_type": "stream",
     "text": [
      "       Latitude   Longitude\n",
      "0     14.565443  121.027535\n",
      "1     14.553708  121.014101\n",
      "2     14.581404  121.056831\n",
      "3     14.585318  121.056475\n",
      "4     14.584450  121.057508\n",
      "...         ...         ...\n",
      "9546  41.022793   28.977392\n",
      "9547  41.009847   29.041297\n",
      "9548  41.055817   29.034640\n",
      "9549  41.057979   29.036019\n",
      "9550  40.984776   29.026016\n",
      "\n",
      "[9551 rows x 2 columns]\n"
     ]
    }
   ],
   "source": [
    "coords = df[['Latitude', 'Longitude']]\n",
    "print(coords)"
   ]
  },
  {
   "cell_type": "code",
   "execution_count": 17,
   "metadata": {},
   "outputs": [
    {
     "data": {
      "image/png": "[encoded data removed]",
      "text/plain": [
       "<Figure size 1000x600 with 1 Axes>"
      ]
     },
     "metadata": {},
     "output_type": "display_data"
    }
   ],
   "source": [
    "plt.figure(figsize=(10, 6))\n",
    "plt.scatter(df['Longitude'], df['Latitude'], alpha=0.5, c='blue', edgecolors='black')\n",
    "plt.title('Restaurant Locations')\n",
    "\n",
    "plt.show()"
   ]
  },
  {
   "cell_type": "markdown",
   "metadata": {},
   "source": [
    "2. PATTERNS AND CLUSTERS OF RESTAURANTS IN SPECIFIC AREAS"
   ]
  },
  {
   "cell_type": "code",
   "execution_count": null,
   "metadata": {},
   "outputs": [
    {
     "name": "stdout",
     "output_type": "stream",
     "text": [
      "Cluster\n",
      " 41    7549\n",
      " 29     497\n",
      "-1       47\n",
      " 74      40\n",
      " 27      40\n",
      " 5       40\n",
      " 0       22\n",
      " 30      21\n",
      " 6       20\n",
      " 8       20\n",
      " 7       20\n",
      " 2       20\n",
      " 1       20\n",
      " 4       20\n",
      " 3       20\n",
      " 13      20\n",
      " 12      20\n",
      " 11      20\n",
      " 10      20\n",
      " 9       20\n",
      " 21      20\n",
      " 14      20\n",
      " 20      20\n",
      " 25      20\n",
      " 24      20\n",
      " 22      20\n",
      " 23      20\n",
      " 26      20\n",
      " 37      20\n",
      " 16      20\n",
      " 15      20\n",
      " 45      20\n",
      " 39      20\n",
      " 38      20\n",
      " 34      20\n",
      " 44      20\n",
      " 72      20\n",
      " 70      20\n",
      " 73      20\n",
      " 53      20\n",
      " 59      20\n",
      " 58      20\n",
      " 61      20\n",
      " 48      20\n",
      " 49      20\n",
      " 46      20\n",
      " 17      20\n",
      " 69      20\n",
      " 67      20\n",
      " 68      20\n",
      " 71      20\n",
      " 76      20\n",
      " 54      19\n",
      " 75      19\n",
      " 65      19\n",
      " 55      19\n",
      " 66      19\n",
      " 51      18\n",
      " 47      18\n",
      " 42      17\n",
      " 36      17\n",
      " 32      17\n",
      " 50      17\n",
      " 57      17\n",
      " 60      16\n",
      " 33      16\n",
      " 64      15\n",
      " 43      15\n",
      " 31      15\n",
      " 28      14\n",
      " 35      14\n",
      " 77      14\n",
      " 56      14\n",
      " 40      13\n",
      " 63      13\n",
      " 52      11\n",
      " 19      10\n",
      " 62      10\n",
      " 18       9\n",
      "Name: count, dtype: int64\n"
     ]
    }
   ],
   "source": [
    "# Extract coordinates\n",
    "coords = df[['Latitude', 'Longitude']]\n",
    "\n",
    "# Apply DBSCAN\n",
    "dbscan = DBSCAN(eps=0.01, min_samples=5, metric='haversine').fit(np.radians(coords))\n",
    "\n",
    "# Add cluster labels to the DataFrame\n",
    "df['Cluster'] = dbscan.labels_\n",
    "\n",
    "# Count the number of restaurants in each cluster\n",
    "cluster_counts = df['Cluster'].value_counts()\n",
    "\n",
    "print(cluster_counts)"
   ]
  },
  {
   "cell_type": "markdown",
   "metadata": {},
   "source": [
    "The clustering analysis using DBSCAN identified multiple clusters of restaurants, with the majority concentrated in Cluster 41 (7,549 restaurants), indicating a high-density area. A smaller but significant cluster (Cluster 29) contains 497 restaurants. Several other clusters contain fewer restaurants, while 47 restaurants were classified as noise, suggesting they are isolated or do not belong to a major grouping. These results suggest that restaurants are highly concentrated in a few areas, with some scattered locations outside major clusters."
   ]
  },
  {
   "cell_type": "markdown",
   "metadata": {},
   "source": [
    "# TASK 4 : RESTAURANT CHAINS"
   ]
  },
  {
   "cell_type": "markdown",
   "metadata": {},
   "source": [
    "QUESTIONS:\n",
    "1. Identify if there are any restaurant chains present in the dataset.\n",
    "2. Analyze the ratings and popularity of different restaurant chains."
   ]
  },
  {
   "cell_type": "markdown",
   "metadata": {},
   "source": [
    "1. RESTAURANT CHAINS PRESENT IN THE DATASET"
   ]
  },
  {
   "cell_type": "code",
   "execution_count": 9,
   "metadata": {},
   "outputs": [
    {
     "name": "stdout",
     "output_type": "stream",
     "text": [
      "           Restaurant Name  Restaurant ID\n",
      "7        10 Downing Street              2\n",
      "27      221 B Baker Street              3\n",
      "44      34 Parkstreet Lane              2\n",
      "45    34, Chowringhee Lane             12\n",
      "59          4700BC Popcorn              2\n",
      "...                    ...            ...\n",
      "7382                 Zaika              4\n",
      "7388     Zaika Kathi Rolls              2\n",
      "7416                  Zizo              3\n",
      "7423       Zooby's Kitchen              2\n",
      "7431                  buno              2\n",
      "\n",
      "[733 rows x 2 columns]\n"
     ]
    }
   ],
   "source": [
    "# Restaurant chains are restaurant with the same name but in different locations\n",
    "\n",
    "# Count how many times each restaurant name appears\n",
    "restaurant_counts = df.groupby('Restaurant Name')['Restaurant ID'].nunique().reset_index()\n",
    "\n",
    "# Filter restaurants that appear in multiple locations (chains)\n",
    "restaurant_chains = restaurant_counts[restaurant_counts['Restaurant ID'] > 1]\n",
    "\n",
    "# Display the restaurant chains\n",
    "print(restaurant_chains)"
   ]
  },
  {
   "cell_type": "markdown",
   "metadata": {},
   "source": [
    "2. RATING AND POPULARITY OF DIFFERENT RESTAURANT CHAINS"
   ]
  },
  {
   "cell_type": "code",
   "execution_count": 19,
   "metadata": {},
   "outputs": [
    {
     "name": "stdout",
     "output_type": "stream",
     "text": [
      "           Restaurant Name  Avg_Rating  Total_Votes\n",
      "0                      #45         3.6          209\n",
      "1             #Dilliwaala6         3.7          124\n",
      "2             #InstaFreeze         0.0            2\n",
      "3              #OFF Campus         3.7          216\n",
      "4               #Urban Caf         3.3           49\n",
      "...                    ...         ...          ...\n",
      "7440    t Lounge by Dilmah         3.6           34\n",
      "7441                tashas         4.1          374\n",
      "7442         ukuraa Sofras         4.4          296\n",
      "7443              wagamama         3.7          131\n",
      "7444  {Niche} - Cafe & Bar         4.1          492\n",
      "\n",
      "[7445 rows x 3 columns]\n"
     ]
    }
   ],
   "source": [
    "# Group by restaurant chain and calculate average rating and total votes\n",
    "chain_analysis = df.groupby('Restaurant Name').agg(\n",
    "    Avg_Rating=('Aggregate rating', 'mean'),\n",
    "    Total_Votes=('Votes', 'sum')\n",
    ").reset_index()\n",
    "\n",
    "print(chain_analysis)"
   ]
  }
 ],
 "metadata": {
  "kernelspec": {
   "display_name": ".venv",
   "language": "python",
   "name": "python3"
  },
  "language_info": {
   "codemirror_mode": {
    "name": "ipython",
    "version": 3
   },
   "file_extension": ".py",
   "mimetype": "text/x-python",
   "name": "python",
   "nbconvert_exporter": "python",
   "pygments_lexer": "ipython3",
   "version": "3.12.9"
  }
 },
 "nbformat": 4,
 "nbformat_minor": 2
}
